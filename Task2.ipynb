{
 "cells": [
  {
   "cell_type": "markdown",
   "id": "dd5d1e4e-3021-4004-a202-1fb6158dcb62",
   "metadata": {},
   "source": [
    "**1.Capitalize**\n"
   ]
  },
  {
   "cell_type": "markdown",
   "id": "d8a4116c-5b15-4e9b-afd1-0dfeecd5ae1c",
   "metadata": {},
   "source": [
    "Converts the first character to upper case"
   ]
  },
  {
   "cell_type": "markdown",
   "id": "b3ad4ebc-ae27-4059-a392-d52ca9c9a45c",
   "metadata": {},
   "source": [
    "**Example :**"
   ]
  },
  {
   "cell_type": "code",
   "execution_count": 15,
   "id": "6ab835eb-31b1-4963-93ec-5005b0e577b7",
   "metadata": {},
   "outputs": [
    {
     "name": "stdout",
     "output_type": "stream",
     "text": [
      "I aakanksha\n"
     ]
    }
   ],
   "source": [
    "text=\"i aakanksha\"\n",
    "print(text.capitalize())"
   ]
  },
  {
   "cell_type": "code",
   "execution_count": 17,
   "id": "b8f7d8c1-ff91-45d9-b1a3-e6baaf29c1d7",
   "metadata": {},
   "outputs": [
    {
     "name": "stdout",
     "output_type": "stream",
     "text": [
      "Coder's world\n"
     ]
    }
   ],
   "source": [
    "text=\"coder's world\"\n",
    "print(text.capitalize())"
   ]
  },
  {
   "cell_type": "markdown",
   "id": "6cd116b2-8a15-4d55-acfe-b728cfbb9bcb",
   "metadata": {},
   "source": [
    "**2.Casefold**"
   ]
  },
  {
   "cell_type": "markdown",
   "id": "7c691c15-a8bf-4c63-ac76-10da36c2b77a",
   "metadata": {},
   "source": [
    "Converts string into lower case"
   ]
  },
  {
   "cell_type": "markdown",
   "id": "0fa4b55e-306c-458e-bc53-2e96a0aee55e",
   "metadata": {},
   "source": [
    "**Example :**"
   ]
  },
  {
   "cell_type": "code",
   "execution_count": 28,
   "id": "2c6e0746-ee3b-429d-8249-e828a06c6cff",
   "metadata": {},
   "outputs": [
    {
     "name": "stdout",
     "output_type": "stream",
     "text": [
      "good morning\n"
     ]
    }
   ],
   "source": [
    "text=\"GOOD MORNING\"\n",
    "print(text.casefold())"
   ]
  },
  {
   "cell_type": "code",
   "execution_count": 30,
   "id": "2a901e2f-7ca4-44f6-bbf9-db31b8d63b79",
   "metadata": {},
   "outputs": [
    {
     "name": "stdout",
     "output_type": "stream",
     "text": [
      "good night\n"
     ]
    }
   ],
   "source": [
    "text= \"GOOD NIGHT\"\n",
    "print(text.casefold())"
   ]
  },
  {
   "cell_type": "markdown",
   "id": "1f073c27-a0f8-4ec3-94d9-661715363c14",
   "metadata": {},
   "source": [
    "**3.Center**"
   ]
  },
  {
   "cell_type": "markdown",
   "id": "59b84697-5cd1-479f-bbc1-79450eb664d7",
   "metadata": {},
   "source": [
    "Returns a centered string"
   ]
  },
  {
   "cell_type": "markdown",
   "id": "bcd8980e-3c44-405b-8f3f-e187dfe1c178",
   "metadata": {},
   "source": [
    "**Example :**"
   ]
  },
  {
   "cell_type": "code",
   "execution_count": 43,
   "id": "94403a3a-2bca-4cf4-8fa4-641a524a4d90",
   "metadata": {},
   "outputs": [
    {
     "name": "stdout",
     "output_type": "stream",
     "text": [
      "**space***\n"
     ]
    }
   ],
   "source": [
    "text = \"space\"\n",
    "print(text.center(10,\"*\"))"
   ]
  },
  {
   "cell_type": "code",
   "execution_count": 51,
   "id": "c9d024f5-7c78-470c-9348-917b73253126",
   "metadata": {},
   "outputs": [
    {
     "name": "stdout",
     "output_type": "stream",
     "text": [
      "*I LOVE MY OWN SPACE*\n"
     ]
    }
   ],
   "source": [
    "text = \"I LOVE MY OWN SPACE\"\n",
    "print(text.center(21,\"*\"))"
   ]
  },
  {
   "cell_type": "markdown",
   "id": "87679631-b2f2-49d3-86e9-d3eb6a2bd7ba",
   "metadata": {},
   "source": [
    "**4.Count**"
   ]
  },
  {
   "cell_type": "markdown",
   "id": "0a6acecf-11f2-4995-ad7f-3cd6f27c0db9",
   "metadata": {},
   "source": [
    "Returns the number of times a specified value occurs in a string"
   ]
  },
  {
   "cell_type": "markdown",
   "id": "e564d189-b3df-4d6d-8e4a-e2ef63d6ca65",
   "metadata": {},
   "source": [
    "**Example :**"
   ]
  },
  {
   "cell_type": "code",
   "execution_count": 60,
   "id": "309daf88-3cbb-4898-95cf-6c30cdd19326",
   "metadata": {},
   "outputs": [
    {
     "name": "stdout",
     "output_type": "stream",
     "text": [
      "4\n"
     ]
    }
   ],
   "source": [
    "t=\"AAKANKSHA\"\n",
    "print(t.count('A'))"
   ]
  },
  {
   "cell_type": "code",
   "execution_count": 62,
   "id": "c0b4af0b-3bb1-499c-9d47-cf2ee70cdef7",
   "metadata": {},
   "outputs": [
    {
     "name": "stdout",
     "output_type": "stream",
     "text": [
      "2\n"
     ]
    }
   ],
   "source": [
    "text=\"cutiepie\"\n",
    "print(text.count('i'))"
   ]
  },
  {
   "cell_type": "markdown",
   "id": "734f2317-6503-4b29-80c2-6ff161eb1117",
   "metadata": {},
   "source": [
    "**5.encode()**"
   ]
  },
  {
   "cell_type": "markdown",
   "id": "4260f17c-5ff2-438f-afad-ca1b60e71e11",
   "metadata": {},
   "source": [
    "Returns an encoded version of the string\n"
   ]
  },
  {
   "cell_type": "markdown",
   "id": "a28c72e5-a326-43c2-9acc-2c418d9a2fdc",
   "metadata": {},
   "source": [
    "**Example :**"
   ]
  },
  {
   "cell_type": "code",
   "execution_count": 67,
   "id": "cb77cbed-6fa5-4016-b2ef-622680da03a2",
   "metadata": {},
   "outputs": [
    {
     "name": "stdout",
     "output_type": "stream",
     "text": [
      "b'world'\n"
     ]
    }
   ],
   "source": [
    "t= \"world\"\n",
    "print(t.encode())"
   ]
  },
  {
   "cell_type": "code",
   "execution_count": 69,
   "id": "95925529-c37c-4d35-ae82-83a54e525e84",
   "metadata": {},
   "outputs": [
    {
     "name": "stdout",
     "output_type": "stream",
     "text": [
      "b'laugh'\n"
     ]
    }
   ],
   "source": [
    "t= \"laugh\"\n",
    "print(t.encode())"
   ]
  },
  {
   "cell_type": "markdown",
   "id": "2d743c03-951a-45a2-ba00-b833b9c6e520",
   "metadata": {},
   "source": [
    "**6.endswith**"
   ]
  },
  {
   "cell_type": "markdown",
   "id": "4f2e6fa0-b679-40f0-81f8-7c0a872b6ff1",
   "metadata": {},
   "source": [
    "Returns true if the string ends with the specified value"
   ]
  },
  {
   "cell_type": "code",
   "execution_count": 83,
   "id": "bc71e952-f615-43ad-a2d4-4bb9e51d7f51",
   "metadata": {},
   "outputs": [
    {
     "name": "stdout",
     "output_type": "stream",
     "text": [
      "False\n"
     ]
    }
   ],
   "source": [
    "t=\" You are so special\"\n",
    "print(t.endswith('Y'))"
   ]
  },
  {
   "cell_type": "code",
   "execution_count": 75,
   "id": "1000df1a-1817-4959-9e40-6b7f75eb6d28",
   "metadata": {},
   "outputs": [
    {
     "name": "stdout",
     "output_type": "stream",
     "text": [
      "True\n"
     ]
    }
   ],
   "source": [
    "t=\" You are so special\"\n",
    "print(t.endswith('l'))"
   ]
  },
  {
   "cell_type": "markdown",
   "id": "be9808ab-dea2-4db0-af15-b2483dc8eb3d",
   "metadata": {},
   "source": [
    "**7.find()**"
   ]
  },
  {
   "cell_type": "markdown",
   "id": "c8a03735-b257-463f-a89d-bd8ca495fa47",
   "metadata": {},
   "source": [
    "Searches the string for a specified value and returns the position of where it was found"
   ]
  },
  {
   "cell_type": "code",
   "execution_count": 79,
   "id": "4c893259-0a88-41f5-af83-808196569d2c",
   "metadata": {},
   "outputs": [
    {
     "name": "stdout",
     "output_type": "stream",
     "text": [
      "11\n"
     ]
    }
   ],
   "source": [
    "t=\"searching for text\"\n",
    "print(t.find('o'))"
   ]
  },
  {
   "cell_type": "code",
   "execution_count": 81,
   "id": "a46da34a-640c-4868-9fe3-94f173bdf85c",
   "metadata": {},
   "outputs": [
    {
     "name": "stdout",
     "output_type": "stream",
     "text": [
      "9\n"
     ]
    }
   ],
   "source": [
    "t=\"i couldn't find\"\n",
    "print(t.find('t'))"
   ]
  },
  {
   "cell_type": "markdown",
   "id": "7fc8d5fe-d97d-4505-8779-4f1db65b2b99",
   "metadata": {},
   "source": [
    "**8.isalnum()**"
   ]
  },
  {
   "cell_type": "markdown",
   "id": "cf22a776-1837-41eb-ac0e-c0d9952f5f3c",
   "metadata": {},
   "source": [
    "Returns True if all characters in the string are alphanumeric"
   ]
  },
  {
   "cell_type": "markdown",
   "id": "1051c6bb-5616-43a7-9c2b-bf6abe086a9e",
   "metadata": {},
   "source": [
    "**Example :**"
   ]
  },
  {
   "cell_type": "code",
   "execution_count": 90,
   "id": "21a91636-290d-4185-9e34-986a9c7eb66b",
   "metadata": {},
   "outputs": [
    {
     "name": "stdout",
     "output_type": "stream",
     "text": [
      "False\n"
     ]
    }
   ],
   "source": [
    "t=\"i love music\"\n",
    "print(t.isalnum())"
   ]
  },
  {
   "cell_type": "code",
   "execution_count": 96,
   "id": "423b9779-73b3-4242-9cac-2d84253cb335",
   "metadata": {},
   "outputs": [
    {
     "name": "stdout",
     "output_type": "stream",
     "text": [
      "True\n"
     ]
    }
   ],
   "source": [
    "t=\"ilove2eat\"\n",
    "print(t.isalnum())"
   ]
  },
  {
   "cell_type": "markdown",
   "id": "29f57fcb-1907-4c68-9db6-ac686a849ba7",
   "metadata": {},
   "source": [
    "**9.isalpha()**"
   ]
  },
  {
   "cell_type": "markdown",
   "id": "190e684e-6214-4eb5-8c7d-0d0f118d60ec",
   "metadata": {},
   "source": [
    "Returns True if all characters in the string are in the alphabet"
   ]
  },
  {
   "cell_type": "markdown",
   "id": "3afb1396-7427-4c30-9851-dfdaa9c3c28e",
   "metadata": {},
   "source": [
    "**Example :**"
   ]
  },
  {
   "cell_type": "code",
   "execution_count": 107,
   "id": "0224f32b-aaf3-4a1d-82a2-7d9351568265",
   "metadata": {},
   "outputs": [
    {
     "name": "stdout",
     "output_type": "stream",
     "text": [
      "True\n"
     ]
    }
   ],
   "source": [
    "t=\"ilovemusic\"\n",
    "print(t.isalpha())"
   ]
  },
  {
   "cell_type": "code",
   "execution_count": 105,
   "id": "53795899-09d9-4f42-99e7-5689e9a25e01",
   "metadata": {},
   "outputs": [
    {
     "name": "stdout",
     "output_type": "stream",
     "text": [
      "False\n"
     ]
    }
   ],
   "source": [
    "t=\"ilove2eat\"\n",
    "print(t.isalpha())"
   ]
  },
  {
   "cell_type": "markdown",
   "id": "4253713a-9527-44ad-9b20-a360aa58b395",
   "metadata": {},
   "source": [
    "**10.isdecimal()**"
   ]
  },
  {
   "cell_type": "markdown",
   "id": "a3e4db3c-390b-4bf7-b941-87b882947054",
   "metadata": {},
   "source": [
    "Returns True if all characters in the string are decimals"
   ]
  },
  {
   "cell_type": "code",
   "execution_count": 111,
   "id": "4feaae7f-8379-4423-8a09-095275869b5b",
   "metadata": {},
   "outputs": [
    {
     "name": "stdout",
     "output_type": "stream",
     "text": [
      "True\n"
     ]
    }
   ],
   "source": [
    "t=\"123\"\n",
    "print(t.isdecimal())"
   ]
  },
  {
   "cell_type": "code",
   "execution_count": 113,
   "id": "14bba511-a192-4c80-a138-cebc00ca767f",
   "metadata": {},
   "outputs": [
    {
     "name": "stdout",
     "output_type": "stream",
     "text": [
      "False\n"
     ]
    }
   ],
   "source": [
    "t=\"123.5\"\n",
    "print(t.isdecimal())"
   ]
  },
  {
   "cell_type": "markdown",
   "id": "6a10d083-84d3-4a94-8678-f076b7dd4a41",
   "metadata": {},
   "source": [
    "**11.isdigit()**"
   ]
  },
  {
   "cell_type": "markdown",
   "id": "874c5dc3-6b04-4058-9f89-771c0f5d991f",
   "metadata": {},
   "source": [
    "Returns True if all characters in the string are digits"
   ]
  },
  {
   "cell_type": "code",
   "execution_count": 118,
   "id": "c1251bf3-502a-4fe0-a7fe-34ced7caf8fe",
   "metadata": {},
   "outputs": [
    {
     "name": "stdout",
     "output_type": "stream",
     "text": [
      "True\n"
     ]
    }
   ],
   "source": [
    "t=\"123\"\n",
    "print(t.isdigit())"
   ]
  },
  {
   "cell_type": "code",
   "execution_count": 145,
   "id": "42d0572a-fb85-4986-90ce-ea928cb74e98",
   "metadata": {},
   "outputs": [
    {
     "name": "stdout",
     "output_type": "stream",
     "text": [
      "False\n"
     ]
    }
   ],
   "source": [
    "t=\"123.5\"\n",
    "print(t.isdigit())"
   ]
  },
  {
   "cell_type": "markdown",
   "id": "c4107144-afbe-4450-a2bc-3a06a6d109ed",
   "metadata": {},
   "source": [
    "**12.isspace()**"
   ]
  },
  {
   "cell_type": "markdown",
   "id": "5c42eba6-c06a-469d-aadf-a771757bcc8d",
   "metadata": {},
   "source": [
    "Returns True if all characters in the string are whitespaces"
   ]
  },
  {
   "cell_type": "markdown",
   "id": "723fbb5b-e89c-4ed4-ab74-637a0ad7ee14",
   "metadata": {},
   "source": [
    "**Example :**"
   ]
  },
  {
   "cell_type": "code",
   "execution_count": 129,
   "id": "54f946ac-6a76-49e2-801b-422bad0950f4",
   "metadata": {},
   "outputs": [
    {
     "name": "stdout",
     "output_type": "stream",
     "text": [
      "False\n"
     ]
    }
   ],
   "source": [
    "t= \"i books\"\n",
    "print(t.isspace())"
   ]
  },
  {
   "cell_type": "code",
   "execution_count": 131,
   "id": "1bb1fbcd-25b6-452d-af49-787a816b4ea4",
   "metadata": {},
   "outputs": [
    {
     "name": "stdout",
     "output_type": "stream",
     "text": [
      "True\n"
     ]
    }
   ],
   "source": [
    "t=\" \"\n",
    "print(t.isspace())"
   ]
  },
  {
   "cell_type": "markdown",
   "id": "a14b9a4d-b30c-432a-b259-1a1c03c67a8f",
   "metadata": {},
   "source": [
    "**13.istitle()**"
   ]
  },
  {
   "cell_type": "markdown",
   "id": "989110e6-f3db-4d2e-b5d3-aeae15829c20",
   "metadata": {},
   "source": [
    "Returns True if the string follows the rules of a title"
   ]
  },
  {
   "cell_type": "markdown",
   "id": "39335fcb-f652-44a9-88d4-e5b9eec77d99",
   "metadata": {},
   "source": [
    "**Example :**"
   ]
  },
  {
   "cell_type": "code",
   "execution_count": 138,
   "id": "e0784bd7-421c-4744-b995-b08efd89f2a8",
   "metadata": {},
   "outputs": [
    {
     "name": "stdout",
     "output_type": "stream",
     "text": [
      "True\n"
     ]
    }
   ],
   "source": [
    "t= \" The Beginning\"\n",
    "print(t.istitle())"
   ]
  },
  {
   "cell_type": "code",
   "execution_count": 140,
   "id": "42d818ea-90b8-4f62-955c-5ae5e7d8b624",
   "metadata": {},
   "outputs": [
    {
     "name": "stdout",
     "output_type": "stream",
     "text": [
      "False\n"
     ]
    }
   ],
   "source": [
    "t= \" the beginning\"\n",
    "print(t.istitle())"
   ]
  },
  {
   "cell_type": "markdown",
   "id": "2792dacf-c2ad-4152-b055-5217e982918e",
   "metadata": {},
   "source": [
    "**14.isupper()**"
   ]
  },
  {
   "cell_type": "markdown",
   "id": "651569c7-dfe4-429e-807a-fe4a2ddb1935",
   "metadata": {},
   "source": [
    "Returns True if all characters in the string are upper case"
   ]
  },
  {
   "cell_type": "markdown",
   "id": "1e20d565-3cd4-4f19-8bc8-b9f36437e91f",
   "metadata": {},
   "source": [
    "**Example :**"
   ]
  },
  {
   "cell_type": "code",
   "execution_count": 150,
   "id": "ab6a4832-35e6-43a3-a5d9-5d999f113fa2",
   "metadata": {},
   "outputs": [
    {
     "name": "stdout",
     "output_type": "stream",
     "text": [
      "False\n"
     ]
    }
   ],
   "source": [
    "t= \" it's okay\"\n",
    "print(t.isupper())"
   ]
  },
  {
   "cell_type": "code",
   "execution_count": 152,
   "id": "6005cb8b-ed86-4305-90dc-485b52ee5581",
   "metadata": {},
   "outputs": [
    {
     "name": "stdout",
     "output_type": "stream",
     "text": [
      "True\n"
     ]
    }
   ],
   "source": [
    "t=\"I AM SO CUTE\"\n",
    "print(t.isupper())"
   ]
  },
  {
   "cell_type": "markdown",
   "id": "c56fb6e7-3766-4c4c-adf0-e31d698bd0ff",
   "metadata": {},
   "source": [
    "**15.join()**"
   ]
  },
  {
   "cell_type": "markdown",
   "id": "62a03c8f-99e1-4076-af4f-bb6765c7c253",
   "metadata": {},
   "source": [
    "Converts the elements of an iterable into a string"
   ]
  },
  {
   "cell_type": "markdown",
   "id": "90941bf4-5a32-4f51-a145-77150705ea1e",
   "metadata": {},
   "source": [
    "**Example :**"
   ]
  },
  {
   "cell_type": "code",
   "execution_count": 164,
   "id": "da0ceac3-7df3-4f2b-94d9-2a47f8f4347f",
   "metadata": {},
   "outputs": [
    {
     "name": "stdout",
     "output_type": "stream",
     "text": [
      " -'-A-'- -'-L-'- -'-A-'- -'-D-'- -'-Y-'\n"
     ]
    }
   ],
   "source": [
    "seq=\" 'A' 'L' 'A' 'D' 'Y'\"\n",
    "t='-'\n",
    "print(t.join(seq))"
   ]
  },
  {
   "cell_type": "code",
   "execution_count": 162,
   "id": "f17f3a59-d2bf-4430-9546-933c464ebb98",
   "metadata": {},
   "outputs": [
    {
     "name": "stdout",
     "output_type": "stream",
     "text": [
      "I' 'M\n"
     ]
    }
   ],
   "source": [
    "seq= \"I M\"\n",
    "t= \"'\"\n",
    "print(t.join(seq))"
   ]
  },
  {
   "cell_type": "markdown",
   "id": "789a22b9-82ee-4403-ae40-074db560381e",
   "metadata": {},
   "source": [
    "**16.lstrip()**"
   ]
  },
  {
   "cell_type": "markdown",
   "id": "3e9490da-97eb-4a26-a329-3a93ee34b2ff",
   "metadata": {},
   "source": [
    "Returns a left trim version of the string\n"
   ]
  },
  {
   "cell_type": "markdown",
   "id": "c6a08e73-15c1-4e3c-b6ab-47f2863ff7ec",
   "metadata": {},
   "source": [
    "**Example**"
   ]
  },
  {
   "cell_type": "code",
   "execution_count": 177,
   "id": "91c457a6-24ac-4181-ae3d-bde5ebaf4a8f",
   "metadata": {},
   "outputs": [
    {
     "name": "stdout",
     "output_type": "stream",
     "text": [
      "you idiot\n"
     ]
    }
   ],
   "source": [
    "t=\"   you idiot\"\n",
    "print(t.lstrip())"
   ]
  },
  {
   "cell_type": "code",
   "execution_count": 187,
   "id": "f4b564e7-b751-488f-b8e3-317975cf59e7",
   "metadata": {},
   "outputs": [
    {
     "name": "stdout",
     "output_type": "stream",
     "text": [
      "you idiot\n"
     ]
    }
   ],
   "source": [
    "t= \";;;;;you idiot\"\n",
    "print(t.lstrip(';'))"
   ]
  },
  {
   "cell_type": "markdown",
   "id": "811ddc9b-b05a-4326-ac50-90084f760fdb",
   "metadata": {},
   "source": [
    "**17.replace()**"
   ]
  },
  {
   "cell_type": "markdown",
   "id": "37455a7a-89cb-42bb-88fe-079d007e8bfe",
   "metadata": {},
   "source": [
    "Returns a string where a specified value is replaced with a specified value"
   ]
  },
  {
   "cell_type": "markdown",
   "id": "81ca9a1a-1ffc-416f-9ffe-9fa56febbfbd",
   "metadata": {},
   "source": [
    "**Example :**"
   ]
  },
  {
   "cell_type": "code",
   "execution_count": 194,
   "id": "95a3bb16-13c2-4ff5-bd2b-7c52cc65ee80",
   "metadata": {},
   "outputs": [
    {
     "name": "stdout",
     "output_type": "stream",
     "text": [
      " i eat cake\n"
     ]
    }
   ],
   "source": [
    "t= \" i eat fruits\"\n",
    "print(t.replace('fruits','cake'))"
   ]
  },
  {
   "cell_type": "code",
   "execution_count": 196,
   "id": "5768bfbd-e4aa-4c79-8fe2-26761f0bbbbb",
   "metadata": {},
   "outputs": [
    {
     "name": "stdout",
     "output_type": "stream",
     "text": [
      " i am intelligent\n"
     ]
    }
   ],
   "source": [
    "t=\" i am dumb\"\n",
    "print(t.replace('dumb','intelligent'))"
   ]
  },
  {
   "cell_type": "code",
   "execution_count": null,
   "id": "d1cf29ac-4fd8-4fc6-8797-16cb0f969f7f",
   "metadata": {},
   "outputs": [],
   "source": []
  }
 ],
 "metadata": {
  "kernelspec": {
   "display_name": "Python 3 (ipykernel)",
   "language": "python",
   "name": "python3"
  },
  "language_info": {
   "codemirror_mode": {
    "name": "ipython",
    "version": 3
   },
   "file_extension": ".py",
   "mimetype": "text/x-python",
   "name": "python",
   "nbconvert_exporter": "python",
   "pygments_lexer": "ipython3",
   "version": "3.12.4"
  }
 },
 "nbformat": 4,
 "nbformat_minor": 5
}
